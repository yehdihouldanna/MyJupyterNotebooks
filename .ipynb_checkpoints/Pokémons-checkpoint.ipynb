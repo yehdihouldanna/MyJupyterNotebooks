{
 "cells": [
  {
   "cell_type": "code",
   "execution_count": 1,
   "metadata": {},
   "outputs": [
    {
     "name": "stdout",
     "output_type": "stream",
     "text": [
      "# packages in environment at C:\\Users\\Yehdih\\anaconda3\\envs\\tf_gpu_2.5:\n",
      "#\n",
      "# Name                    Version                   Build  Channel\n",
      "absl-py                   0.13.0                   pypi_0    pypi\n",
      "astunparse                1.6.3                    pypi_0    pypi\n",
      "backcall                  0.2.0                    pypi_0    pypi\n",
      "ca-certificates           2021.5.30            h5b45459_0    conda-forge\n",
      "cachetools                4.2.2                    pypi_0    pypi\n",
      "certifi                   2021.5.30        py39hcbf5309_0    conda-forge\n",
      "charset-normalizer        2.0.1                    pypi_0    pypi\n",
      "colorama                  0.4.4                    pypi_0    pypi\n",
      "debugpy                   1.3.0                    pypi_0    pypi\n",
      "decorator                 5.0.9                    pypi_0    pypi\n",
      "flatbuffers               1.12                     pypi_0    pypi\n",
      "gast                      0.4.0                    pypi_0    pypi\n",
      "google-auth               1.32.1                   pypi_0    pypi\n",
      "google-auth-oauthlib      0.4.4                    pypi_0    pypi\n",
      "google-pasta              0.2.0                    pypi_0    pypi\n",
      "grpcio                    1.34.1                   pypi_0    pypi\n",
      "h5py                      3.1.0                    pypi_0    pypi\n",
      "idna                      3.2                      pypi_0    pypi\n",
      "ipykernel                 6.0.1                    pypi_0    pypi\n",
      "ipython                   7.25.0                   pypi_0    pypi\n",
      "ipython-genutils          0.2.0                    pypi_0    pypi\n",
      "jedi                      0.18.0                   pypi_0    pypi\n",
      "jupyter-client            6.1.12                   pypi_0    pypi\n",
      "jupyter-core              4.7.1                    pypi_0    pypi\n",
      "keras                     2.4.3                    pypi_0    pypi\n",
      "keras-nightly             2.5.0.dev2021032900          pypi_0    pypi\n",
      "keras-preprocessing       1.1.2                    pypi_0    pypi\n",
      "markdown                  3.3.4                    pypi_0    pypi\n",
      "matplotlib-inline         0.1.2                    pypi_0    pypi\n",
      "numpy                     1.19.5                   pypi_0    pypi\n",
      "oauthlib                  3.1.1                    pypi_0    pypi\n",
      "opencv-python             4.5.3.56                 pypi_0    pypi\n",
      "openssl                   1.1.1k               h8ffe710_0    conda-forge\n",
      "opt-einsum                3.3.0                    pypi_0    pypi\n",
      "parso                     0.8.2                    pypi_0    pypi\n",
      "pickleshare               0.7.5                    pypi_0    pypi\n",
      "pip                       21.1.3             pyhd8ed1ab_0    conda-forge\n",
      "prompt-toolkit            3.0.19                   pypi_0    pypi\n",
      "protobuf                  3.17.3                   pypi_0    pypi\n",
      "pyasn1                    0.4.8                    pypi_0    pypi\n",
      "pyasn1-modules            0.2.8                    pypi_0    pypi\n",
      "pygments                  2.9.0                    pypi_0    pypi\n",
      "python                    3.9.0           h7840368_5_cpython    conda-forge\n",
      "python-dateutil           2.8.1                    pypi_0    pypi\n",
      "python_abi                3.9                      2_cp39    conda-forge\n",
      "pywin32                   301                      pypi_0    pypi\n",
      "pyyaml                    5.4.1                    pypi_0    pypi\n",
      "pyzmq                     22.1.0                   pypi_0    pypi\n",
      "requests                  2.26.0                   pypi_0    pypi\n",
      "requests-oauthlib         1.3.0                    pypi_0    pypi\n",
      "rsa                       4.7.2                    pypi_0    pypi\n",
      "scipy                     1.7.0                    pypi_0    pypi\n",
      "setuptools                49.6.0           py39hcbf5309_3    conda-forge\n",
      "six                       1.15.0                   pypi_0    pypi\n",
      "sqlite                    3.36.0               h8ffe710_0    conda-forge\n",
      "tensorboard               2.5.0                    pypi_0    pypi\n",
      "tensorboard-data-server   0.6.1                    pypi_0    pypi\n",
      "tensorboard-plugin-wit    1.8.0                    pypi_0    pypi\n",
      "tensorflow                2.5.0                    pypi_0    pypi\n",
      "tensorflow-estimator      2.5.0                    pypi_0    pypi\n",
      "termcolor                 1.1.0                    pypi_0    pypi\n",
      "tornado                   6.1                      pypi_0    pypi\n",
      "traitlets                 5.0.5                    pypi_0    pypi\n",
      "typing-extensions         3.7.4.3                  pypi_0    pypi\n",
      "tzdata                    2021a                he74cb21_1    conda-forge\n",
      "ucrt                      10.0.20348.0         h57928b3_0    conda-forge\n",
      "urllib3                   1.26.6                   pypi_0    pypi\n",
      "vc                        14.2                 hb210afc_5    conda-forge\n",
      "vs2015_runtime            14.29.30037          h902a5da_5    conda-forge\n",
      "wcwidth                   0.2.5                    pypi_0    pypi\n",
      "werkzeug                  2.0.1                    pypi_0    pypi\n",
      "wheel                     0.36.2             pyhd3deb0d_0    conda-forge\n",
      "wincertstore              0.2             py39hcbf5309_1006    conda-forge\n",
      "wrapt                     1.12.1                   pypi_0    pypi\n"
     ]
    }
   ],
   "source": [
    "!conda list"
   ]
  },
  {
   "cell_type": "code",
   "execution_count": 2,
   "metadata": {
    "id": "GgMBuy-Ftstx"
   },
   "outputs": [
    {
     "ename": "ModuleNotFoundError",
     "evalue": "No module named 'tensorflow'",
     "output_type": "error",
     "traceback": [
      "\u001b[1;31m---------------------------------------------------------------------------\u001b[0m",
      "\u001b[1;31mModuleNotFoundError\u001b[0m                       Traceback (most recent call last)",
      "\u001b[1;32m<ipython-input-2-6d4c0fbdceda>\u001b[0m in \u001b[0;36m<module>\u001b[1;34m\u001b[0m\n\u001b[1;32m----> 1\u001b[1;33m \u001b[1;32mfrom\u001b[0m \u001b[0mtensorflow\u001b[0m \u001b[1;32mimport\u001b[0m \u001b[0mkeras\u001b[0m \u001b[1;31m# notre boite à outils\u001b[0m\u001b[1;33m\u001b[0m\u001b[1;33m\u001b[0m\u001b[0m\n\u001b[0m\u001b[0;32m      2\u001b[0m \u001b[1;32mfrom\u001b[0m \u001b[0mtensorflow\u001b[0m\u001b[1;33m.\u001b[0m\u001b[0mkeras\u001b[0m\u001b[1;33m.\u001b[0m\u001b[0mmodels\u001b[0m \u001b[1;32mimport\u001b[0m \u001b[0mSequential\u001b[0m \u001b[1;31m# permet d'initier un type de modèle la ou les couches peuvent etre ajouté un par un\u001b[0m\u001b[1;33m\u001b[0m\u001b[1;33m\u001b[0m\u001b[0m\n\u001b[0;32m      3\u001b[0m \u001b[1;32mfrom\u001b[0m \u001b[0mtensorflow\u001b[0m\u001b[1;33m.\u001b[0m\u001b[0mkeras\u001b[0m\u001b[1;33m.\u001b[0m\u001b[0mlayers\u001b[0m \u001b[1;32mimport\u001b[0m \u001b[0mDense\u001b[0m\u001b[1;33m,\u001b[0m\u001b[0mConv2D\u001b[0m\u001b[1;33m,\u001b[0m\u001b[0mMaxPooling2D\u001b[0m\u001b[1;33m,\u001b[0m\u001b[0mFlatten\u001b[0m  \u001b[1;31m# les types de couches qu'on va utiliser\u001b[0m\u001b[1;33m\u001b[0m\u001b[1;33m\u001b[0m\u001b[0m\n\u001b[0;32m      4\u001b[0m \u001b[1;32mimport\u001b[0m \u001b[0mnumpy\u001b[0m \u001b[1;32mas\u001b[0m \u001b[0mnp\u001b[0m  \u001b[1;31m# une libraire qui permet de stocker les tableaux d'une manière optimisée\u001b[0m\u001b[1;33m\u001b[0m\u001b[1;33m\u001b[0m\u001b[0m\n\u001b[0;32m      5\u001b[0m \u001b[1;32mfrom\u001b[0m \u001b[0mtensorflow\u001b[0m\u001b[1;33m.\u001b[0m\u001b[0mkeras\u001b[0m\u001b[1;33m.\u001b[0m\u001b[0mutils\u001b[0m\u001b[1;33m.\u001b[0m\u001b[0mnp_utils\u001b[0m \u001b[1;32mimport\u001b[0m \u001b[0mto_categorical\u001b[0m \u001b[1;31m# pour convertir les labels en proba (les adapter à la sortie du modèle)\u001b[0m\u001b[1;33m\u001b[0m\u001b[1;33m\u001b[0m\u001b[0m\n",
      "\u001b[1;31mModuleNotFoundError\u001b[0m: No module named 'tensorflow'"
     ]
    }
   ],
   "source": [
    "from tensorflow import keras # notre boite à outils\n",
    "from tensorflow.keras.models import Sequential # permet d'initier un type de modèle la ou les couches peuvent etre ajouté un par un\n",
    "from tensorflow.keras.layers import Dense,Conv2D,MaxPooling2D,Flatten  # les types de couches qu'on va utiliser\n",
    "import numpy as np  # une libraire qui permet de stocker les tableaux d'une manière optimisée\n",
    "from tensorflow.keras.utils.np_utils import to_categorical # pour convertir les labels en proba (les adapter à la sortie du modèle)\n",
    "import cv2  # permet la lecture des images et l'ecriture\n",
    "from tensorflow.keras.optimizers import Adam  # ce qui permet à notre modèle d'apprendre\n",
    "from glob import glob  # pour la lecture de fichiers existant dans un dossier"
   ]
  },
  {
   "cell_type": "markdown",
   "metadata": {
    "id": "8RCMtS6KvSRv"
   },
   "source": [
    "###La préparation des données:"
   ]
  },
  {
   "cell_type": "code",
   "execution_count": null,
   "metadata": {
    "colab": {
     "base_uri": "https://localhost:8080/"
    },
    "id": "Nfteds_yvXIX",
    "outputId": "e02ac87f-e346-4f4f-d067-87794d05c329"
   },
   "outputs": [
    {
     "name": "stdout",
     "output_type": "stream",
     "text": [
      "Archive:  Pokemon5.zip\n",
      "   creating: Pokemon5/Dracaufeu/\n",
      "  inflating: Pokemon5/Dracaufeu/001d0fa5713a4b01b6a8772370d9bf98.jpg  \n",
      "  inflating: Pokemon5/Dracaufeu/11ea4e605a3b4c48a6435947a13fc291.jpg  \n",
      "  inflating: Pokemon5/Dracaufeu/12bf89f7789c449a91e02cd1f4378c60.jpg  \n",
      "  inflating: Pokemon5/Dracaufeu/16ec9494900e4fb4bccb4a9ae8408aa8.jpg  \n",
      "  inflating: Pokemon5/Dracaufeu/178ad1532d3a457b91be331cad3cd1fc.jpg  \n",
      "  inflating: Pokemon5/Dracaufeu/1a7c1be0f3724216bce2908c8757b6ef.jpg  \n",
      "  inflating: Pokemon5/Dracaufeu/259dc4c0ef03479a8d27d8d3eb69ecb1.jpg  \n",
      "  inflating: Pokemon5/Dracaufeu/276db6bae3f445369ccf6d092df0e1e9.jpg  \n",
      "  inflating: Pokemon5/Dracaufeu/2c1496237e104fbbb5d9c76a0151346f.jpg  \n",
      "  inflating: Pokemon5/Dracaufeu/34d01002bbaa4de6a63dff03a1183be7.jpg  \n",
      "  inflating: Pokemon5/Dracaufeu/35a3383e491645f2bbf31aaed36535af.jpg  \n",
      "  inflating: Pokemon5/Dracaufeu/3e4edc77f7da4feb8c148799dcd9bcb7.jpg  \n",
      "  inflating: Pokemon5/Dracaufeu/47688c25424b4cd795cf49873f9d2a01.jpg  \n",
      "  inflating: Pokemon5/Dracaufeu/54448320923e429384c224c01d0c3b41.jpg  \n",
      "  inflating: Pokemon5/Dracaufeu/5c945a50b8a441a2a11a2e6e8b28464a.jpg  \n",
      "  inflating: Pokemon5/Dracaufeu/68e934ea3d3045279c981c21812f27b4.jpg  \n",
      "  inflating: Pokemon5/Dracaufeu/7704d55d498345d5bbc4894b08161172.jpg  \n",
      "  inflating: Pokemon5/Dracaufeu/7c75b94ea2cb458f96345ef7323e98ab.jpg  \n",
      "  inflating: Pokemon5/Dracaufeu/7f52da22554a41bb9bbb1794e1cd14be.jpg  \n",
      "  inflating: Pokemon5/Dracaufeu/8678317629364576b100fd5f529e9a33.jpg  \n",
      "  inflating: Pokemon5/Dracaufeu/878bdec2d27c45e5b8e48100fac9e716.jpg  \n",
      "  inflating: Pokemon5/Dracaufeu/8c06cc9c149a4af58fbce9879e05a87c.jpg  \n",
      "  inflating: Pokemon5/Dracaufeu/9e3a1c9f2ba448eca0c5e9baa232aa6d.jpg  \n",
      "  inflating: Pokemon5/Dracaufeu/acacb90b912946e5acd550c554b93e84.jpg  \n",
      "  inflating: Pokemon5/Dracaufeu/aed7e919fda14637a592a7c0c7fa8732.jpg  \n",
      "  inflating: Pokemon5/Dracaufeu/bf40fd9eb933411eababcb35ccc10537.jpg  \n",
      "  inflating: Pokemon5/Dracaufeu/c399a271882740bf9ae466776845b3c5.jpg  \n",
      "  inflating: Pokemon5/Dracaufeu/c654cf3d2ec8453db1a0d6970dc66eaa.jpg  \n",
      "  inflating: Pokemon5/Dracaufeu/c69a523581c44da780b19c501ffd801b.jpg  \n",
      "  inflating: Pokemon5/Dracaufeu/d386d94fe1064d92ad2f06d98c9662b7.jpg  \n",
      "  inflating: Pokemon5/Dracaufeu/d906b6b9b24a4baf9c069a27b87e15c0.jpg  \n",
      "  inflating: Pokemon5/Dracaufeu/def106293beb42beaf3e1ed2ffc45606.jpg  \n",
      "  inflating: Pokemon5/Dracaufeu/e14208b720a74b0e8a28375a6c108273.jpg  \n",
      "  inflating: Pokemon5/Dracaufeu/fd6713a7e5244879b6755ec18e77a28b.jpg  \n",
      "  inflating: Pokemon5/Dracaufeu/fed6277326774a829feb7dd4a53217bc.jpg  \n",
      "   creating: Pokemon5/Ectoplasma/\n",
      "  inflating: Pokemon5/Ectoplasma/1325a1bd33604eebb73e64a9f93a6f12.jpg  \n",
      "  inflating: Pokemon5/Ectoplasma/1448ee0ace93474bb8312fdc526e7db7.jpg  \n",
      "  inflating: Pokemon5/Ectoplasma/15a49e9a81e84994aff0264438eed482.jpg  \n",
      "  inflating: Pokemon5/Ectoplasma/173d8f9dc0e14e9189bf2fc752f6303d.jpg  \n",
      "  inflating: Pokemon5/Ectoplasma/1e46b7cf0edc4045b78e73e0b25c1bcb.jpg  \n",
      "  inflating: Pokemon5/Ectoplasma/2252e64638824bc4b358cfec4c1756a2.jpg  \n",
      "  inflating: Pokemon5/Ectoplasma/2772119fb562418288db550720e63004.jpg  \n",
      "  inflating: Pokemon5/Ectoplasma/28b8902333724f6d89abc745ae97a72a.jpg  \n",
      "  inflating: Pokemon5/Ectoplasma/2a9a8d653bb54527aff1a1e4f251a14f.jpg  \n",
      "  inflating: Pokemon5/Ectoplasma/2b0b882be4f8474f8520e6e5792c8b50.jpg  \n",
      "  inflating: Pokemon5/Ectoplasma/2c98a8450a2442448d61f77add3b248f.jpg  \n",
      "  inflating: Pokemon5/Ectoplasma/2cfd7b7260c949bbabd624b266681290.jpg  \n",
      "  inflating: Pokemon5/Ectoplasma/370e57b63e0849a080cbb2bbd65585b1.jpg  \n",
      "  inflating: Pokemon5/Ectoplasma/3740a4ae09164232813d3d575d90bd1a.jpg  \n",
      "  inflating: Pokemon5/Ectoplasma/383abcad8be84e7b8c6c0c3b06bb006a.jpg  \n",
      "  inflating: Pokemon5/Ectoplasma/46fbb7052f8c44b3bebde55c173242b7.jpg  \n",
      "  inflating: Pokemon5/Ectoplasma/494f33f63a2c4c64bd9061ca063afd84.jpg  \n",
      "  inflating: Pokemon5/Ectoplasma/49d5af83aad040b681f0d15a3f2a7e2f.jpg  \n",
      "  inflating: Pokemon5/Ectoplasma/4f30f5a172704c1c92cba74073a14395.jpg  \n",
      "  inflating: Pokemon5/Ectoplasma/4f73c6a54a87426187263602fe3b6873.jpg  \n",
      "  inflating: Pokemon5/Ectoplasma/5a760b3363f74e68ada1f1d7e94fc70f.jpg  \n",
      "  inflating: Pokemon5/Ectoplasma/6dc60f8bab4d4a938995dc457f5985bd.jpg  \n",
      "  inflating: Pokemon5/Ectoplasma/6eef290d92e84139bf68a31a34b62533.jpg  \n",
      "  inflating: Pokemon5/Ectoplasma/6f1eb0de71ba4e6299a10df8162e8299.jpg  \n",
      "  inflating: Pokemon5/Ectoplasma/76ad86c0852b4928b8174102994868e6.jpg  \n",
      "  inflating: Pokemon5/Ectoplasma/7c2d6eea303147f38ba637da846cf698.jpg  \n",
      "  inflating: Pokemon5/Ectoplasma/841585c2323245d89ce7901b5fbfb644.jpg  \n",
      "  inflating: Pokemon5/Ectoplasma/87baf599ba4b4d6d98137c75fae0829c.jpg  \n",
      "  inflating: Pokemon5/Ectoplasma/888878605746493f9d82fec963d08bca.jpg  \n",
      "  inflating: Pokemon5/Ectoplasma/8afb492db59a4f938f4ec16ec14fd5b5.jpg  \n",
      "  inflating: Pokemon5/Ectoplasma/9309545487fa41058ad059246bb0cf0c.jpg  \n",
      "  inflating: Pokemon5/Ectoplasma/950281305cb24bd8ba2683d633d437fd.jpg  \n",
      "  inflating: Pokemon5/Ectoplasma/973a53af7750403f9abab19cd624e9d4.jpg  \n",
      "  inflating: Pokemon5/Ectoplasma/b0bb8be9dbac423b8027f82c90457e99.jpg  \n",
      "  inflating: Pokemon5/Ectoplasma/b407bb7bc0624e29a34551eb4349478c.jpg  \n",
      "  inflating: Pokemon5/Ectoplasma/b7cf499b0b44416a8fc6ea0e0c2e35fc.jpg  \n",
      "  inflating: Pokemon5/Ectoplasma/b88e02a8978847eb8db397a48eb03d7b.jpg  \n",
      "  inflating: Pokemon5/Ectoplasma/bb32fdf3c9d74f6da42b326f26da3554.jpg  \n",
      "  inflating: Pokemon5/Ectoplasma/c67c05671ecd41f59d2292ed1c5d97dc.jpg  \n",
      "  inflating: Pokemon5/Ectoplasma/c7de3b7904a348088a8d3b7f99f7b002.jpg  \n",
      "  inflating: Pokemon5/Ectoplasma/c960b73682ab40309ad7229662b138e4.jpg  \n",
      "  inflating: Pokemon5/Ectoplasma/cf6240a7c3e54a6b88a139e950879014.jpg  \n",
      "  inflating: Pokemon5/Ectoplasma/d98c14a4607f447b94cb1b63f53c9adc.jpg  \n",
      "  inflating: Pokemon5/Ectoplasma/e05f572d39b942a982bd1afaf954f573.jpg  \n",
      "  inflating: Pokemon5/Ectoplasma/e1123a71e5754b53b74ccd4295f39861.jpg  \n",
      "  inflating: Pokemon5/Ectoplasma/e62ccd38204742188f6d237949ea8003.jpg  \n",
      "  inflating: Pokemon5/Ectoplasma/ee6a60ad4c8b4a559e05faa865e53204.jpg  \n",
      "  inflating: Pokemon5/Ectoplasma/f60837617f9d430c896398af3bbe061b.jpg  \n",
      "  inflating: Pokemon5/Ectoplasma/fff5bd593a5e4ec2a085fc6005bd3d02.jpg  \n",
      "   creating: Pokemon5/Evoli/\n",
      "  inflating: Pokemon5/Evoli/005e226cbfc34ed1bb93eac9a82c9921.jpg  \n",
      "  inflating: Pokemon5/Evoli/00d762c891aa45b38173ce8bf9e74a4d.jpg  \n",
      "  inflating: Pokemon5/Evoli/032305a7eb014387905cb5a11337c4e9.jpg  \n",
      "  inflating: Pokemon5/Evoli/080753ed8ca845d39c88e7ad53cc4fea.jpg  \n",
      "  inflating: Pokemon5/Evoli/0cd552d10a334cd4afefea3af9d17611.jpg  \n",
      "  inflating: Pokemon5/Evoli/104cab28131245ba8fbbd9775502d92e.jpg  \n",
      "  inflating: Pokemon5/Evoli/192479c116a0451e896c8cd10202fe69.jpg  \n",
      "  inflating: Pokemon5/Evoli/1a4b808d25a04abca3f2d26491c371cd.jpg  \n",
      "  inflating: Pokemon5/Evoli/2416e30276434d3dbea498a1ce81cf4d.jpg  \n",
      "  inflating: Pokemon5/Evoli/2df22005428d4f1cb30ed7afcfe85bd4.jpg  \n",
      "  inflating: Pokemon5/Evoli/35f78a51b98e40a09c1ff1a4986805ca.jpg  \n",
      "  inflating: Pokemon5/Evoli/3791b55451ec4170ab38db787b417119.jpg  \n",
      "  inflating: Pokemon5/Evoli/382be572a9b743fea3c07d6f70d9de8d.jpg  \n",
      "  inflating: Pokemon5/Evoli/3e6647f281f6453ea544f3554cf7d47b.jpg  \n",
      "  inflating: Pokemon5/Evoli/4c35630a77024aa6bd664791c3d1ab01.jpg  \n",
      "  inflating: Pokemon5/Evoli/5b60dba9864044be9122708721b6fe83.jpg  \n",
      "  inflating: Pokemon5/Evoli/6b520c1371714efaa3a59cea267ea02a.jpg  \n",
      "  inflating: Pokemon5/Evoli/704d6553c16d47c99ad4eb887bae3b4a.jpg  \n",
      "  inflating: Pokemon5/Evoli/7b51aaa542224fccb03b7909af53d54d.jpg  \n",
      "  inflating: Pokemon5/Evoli/a3a4f9bc67194590b40a8cc8a5d276fa.jpg  \n",
      "  inflating: Pokemon5/Evoli/a46632dcfd16460c941162b63a286c09.jpg  \n",
      "  inflating: Pokemon5/Evoli/aa2d6ded07e1462cb64bbab6ed05c3cf.jpg  \n",
      "  inflating: Pokemon5/Evoli/ac0f83ea3f9f47799d399fc92329b943.jpg  \n",
      "  inflating: Pokemon5/Evoli/b79be62748e84fc98489f9dfc22342c1.jpg  \n",
      "  inflating: Pokemon5/Evoli/c13bd60ea61d425b9d1c1d7ac5ef2192.jpg  \n",
      "  inflating: Pokemon5/Evoli/c5029f6b024f4d0c86f6525bf6c48953.jpg  \n",
      "  inflating: Pokemon5/Evoli/d4e942a56e6c4643b4a38173d26809f5.jpg  \n",
      "  inflating: Pokemon5/Evoli/da7e27103eec454497e18b4d20856030.jpg  \n",
      "  inflating: Pokemon5/Evoli/dad1521c4ace4013a7d038f03703388c.jpg  \n",
      "  inflating: Pokemon5/Evoli/e9ba61eba6c44ce7a4749932c6e763e8.jpg  \n",
      "  inflating: Pokemon5/Evoli/eb68c66324c54a17bb87f5bcba7dc7ad.jpg  \n",
      "  inflating: Pokemon5/Evoli/Eevee.jpg  \n",
      "  inflating: Pokemon5/Evoli/f37ca5375a5e438195169aaa0d82cbb5.jpg  \n",
      "  inflating: Pokemon5/Evoli/f509939d26de44718f7a0977976c0b6f.jpg  \n",
      "  inflating: Pokemon5/Evoli/f5d029c7ef0145cba58cb3cebff2fbab.jpg  \n",
      "  inflating: Pokemon5/Evoli/fad602fd8098488987e337882ebfcdfb.jpg  \n",
      "  inflating: Pokemon5/Evoli/fd988ce2b1a64085b80f91cdeb3bf6eb.jpg  \n",
      "   creating: Pokemon5/Mewtwo/\n",
      "  inflating: Pokemon5/Mewtwo/00000000.jpg  \n",
      "  inflating: Pokemon5/Mewtwo/00000001.jpg  \n",
      "  inflating: Pokemon5/Mewtwo/00000002.jpg  \n",
      "  inflating: Pokemon5/Mewtwo/00000003.jpg  \n",
      "  inflating: Pokemon5/Mewtwo/00000004.jpg  \n",
      "  inflating: Pokemon5/Mewtwo/00000005.png  \n",
      "  inflating: Pokemon5/Mewtwo/00000006.jpg  \n",
      "  inflating: Pokemon5/Mewtwo/00000007.jpg  \n",
      "  inflating: Pokemon5/Mewtwo/00000008.jpeg  \n",
      "  inflating: Pokemon5/Mewtwo/00000008.png  \n",
      "  inflating: Pokemon5/Mewtwo/00000009.png  \n",
      "  inflating: Pokemon5/Mewtwo/00000012.jpg  \n",
      "  inflating: Pokemon5/Mewtwo/00000013.jpeg  \n",
      "  inflating: Pokemon5/Mewtwo/00000015.png  \n",
      "  inflating: Pokemon5/Mewtwo/00000016.jpg  \n",
      "  inflating: Pokemon5/Mewtwo/00000017.png  \n",
      "  inflating: Pokemon5/Mewtwo/00000020.png  \n",
      "  inflating: Pokemon5/Mewtwo/00000023.jpg  \n",
      "  inflating: Pokemon5/Mewtwo/00000024.jpg  \n",
      "  inflating: Pokemon5/Mewtwo/00000026.png  \n",
      "  inflating: Pokemon5/Mewtwo/00000028.jpg  \n",
      "  inflating: Pokemon5/Mewtwo/00000031.png  \n",
      "  inflating: Pokemon5/Mewtwo/00000032.jpg  \n",
      "  inflating: Pokemon5/Mewtwo/00000037.jpeg  \n",
      "  inflating: Pokemon5/Mewtwo/00000040.png  \n",
      "  inflating: Pokemon5/Mewtwo/00000041.png  \n",
      "  inflating: Pokemon5/Mewtwo/00000042.jpeg  \n",
      "  inflating: Pokemon5/Mewtwo/00000042.png  \n",
      "  inflating: Pokemon5/Mewtwo/00000043.png  \n",
      "  inflating: Pokemon5/Mewtwo/00000045.png  \n",
      "  inflating: Pokemon5/Mewtwo/00000046.png  \n",
      "  inflating: Pokemon5/Mewtwo/00000050.png  \n",
      "  inflating: Pokemon5/Mewtwo/00000051.png  \n",
      "  inflating: Pokemon5/Mewtwo/00000059.jpg  \n",
      "  inflating: Pokemon5/Mewtwo/00000066.jpg  \n",
      "  inflating: Pokemon5/Mewtwo/00000068.jpg  \n",
      "  inflating: Pokemon5/Mewtwo/00000069.png  \n",
      "  inflating: Pokemon5/Mewtwo/00000070.jpg  \n",
      "  inflating: Pokemon5/Mewtwo/00000073.jpg  \n",
      "  inflating: Pokemon5/Mewtwo/00000074.png  \n",
      "  inflating: Pokemon5/Mewtwo/00000206.png  \n",
      "  inflating: Pokemon5/Mewtwo/06e8e727f6244dc0b073271efbac372a.jpg  \n",
      "  inflating: Pokemon5/Mewtwo/07ade34d6c094800a010f980270a2859.jpg  \n",
      "  inflating: Pokemon5/Mewtwo/0a7579ae4a49498aa566615a818e2bea.jpg  \n",
      "  inflating: Pokemon5/Mewtwo/3bedbd6570e34ab3a35fbb33fbd3735d.jpg  \n",
      "  inflating: Pokemon5/Mewtwo/3ec4c409b94145b190ae40e05690406b.jpg  \n",
      "  inflating: Pokemon5/Mewtwo/5ccf8ee118f545aeb4960e228edfcb80.jpg  \n",
      "  inflating: Pokemon5/Mewtwo/5d34d1b03d634b899a8ce37164fcdaeb.jpg  \n",
      "  inflating: Pokemon5/Mewtwo/8ab083905ea846efa0e1a3ff500e55a5.jpg  \n",
      "  inflating: Pokemon5/Mewtwo/9bf3c909a7b740cd8505575e3a95744b.jpg  \n",
      "  inflating: Pokemon5/Mewtwo/9ca0f0fa41f5453d8aa97efd4c26084b.jpg  \n",
      "  inflating: Pokemon5/Mewtwo/9ca9588a87df4af8b434c0ce79009f43.jpg  \n",
      "  inflating: Pokemon5/Mewtwo/9dcc77b2d0a94b6191ccf62e7c15fc90.jpg  \n",
      "  inflating: Pokemon5/Mewtwo/9e2540eb00e14120a9888734db143af6.jpg  \n",
      "   creating: Pokemon5/Pikachu/\n",
      "  inflating: Pokemon5/Pikachu/00000000.jpg  \n",
      "  inflating: Pokemon5/Pikachu/00000001.png  \n",
      "  inflating: Pokemon5/Pikachu/00000002.png  \n",
      "  inflating: Pokemon5/Pikachu/00000003.jpg  \n",
      "  inflating: Pokemon5/Pikachu/00000004.jpg  \n",
      "  inflating: Pokemon5/Pikachu/00000009.png  \n",
      "  inflating: Pokemon5/Pikachu/00000010.png  \n",
      "  inflating: Pokemon5/Pikachu/00000011.png  \n",
      "  inflating: Pokemon5/Pikachu/00000014.png  \n",
      "  inflating: Pokemon5/Pikachu/00000015.png  \n",
      "  inflating: Pokemon5/Pikachu/00000016.jpg  \n",
      "  inflating: Pokemon5/Pikachu/00000018.jpg  \n",
      "  inflating: Pokemon5/Pikachu/00000019.jpg  \n",
      "  inflating: Pokemon5/Pikachu/00000020.png  \n",
      "  inflating: Pokemon5/Pikachu/00000021.png  \n",
      "  inflating: Pokemon5/Pikachu/00000023.png  \n",
      "  inflating: Pokemon5/Pikachu/00000024.png  \n",
      "  inflating: Pokemon5/Pikachu/00000027.jpg  \n",
      "  inflating: Pokemon5/Pikachu/00000029.jpg  \n",
      "  inflating: Pokemon5/Pikachu/00000030.jpg  \n",
      "  inflating: Pokemon5/Pikachu/00000031.png  \n",
      "  inflating: Pokemon5/Pikachu/00000034.jpg  \n",
      "  inflating: Pokemon5/Pikachu/00000035.png  \n",
      "  inflating: Pokemon5/Pikachu/00000036.png  \n",
      "  inflating: Pokemon5/Pikachu/00000038.png  \n",
      "  inflating: Pokemon5/Pikachu/00000040.png  \n",
      "  inflating: Pokemon5/Pikachu/00000041.jpg  \n",
      "  inflating: Pokemon5/Pikachu/00000043.png  \n",
      "  inflating: Pokemon5/Pikachu/00000044.jpg  \n",
      "  inflating: Pokemon5/Pikachu/00000046.jpg  \n",
      "  inflating: Pokemon5/Pikachu/00000048.jpg  \n",
      "  inflating: Pokemon5/Pikachu/00000050.png  \n",
      "  inflating: Pokemon5/Pikachu/00000052.png  \n",
      "  inflating: Pokemon5/Pikachu/00000054.jpg  \n",
      "  inflating: Pokemon5/Pikachu/00000055.png  \n",
      "  inflating: Pokemon5/Pikachu/00000058.png  \n",
      "  inflating: Pokemon5/Pikachu/00000059.jpg  \n",
      "  inflating: Pokemon5/Pikachu/00000061.jpg  \n",
      "  inflating: Pokemon5/Pikachu/00000064.jpg  \n",
      "  inflating: Pokemon5/Pikachu/00000066.png  \n",
      "  inflating: Pokemon5/Pikachu/00000067.png  \n",
      "  inflating: Pokemon5/Pikachu/00000069.png  \n",
      "  inflating: Pokemon5/Pikachu/00000072.jpeg  \n",
      "  inflating: Pokemon5/Pikachu/00000073.jpg  \n",
      "  inflating: Pokemon5/Pikachu/00000074.png  \n",
      "  inflating: Pokemon5/Pikachu/00000205.jpeg  \n",
      "  inflating: Pokemon5/Pikachu/01eca38720a448d69cc409b897b399b4.jpg  \n",
      "  inflating: Pokemon5/Pikachu/05da808f2caa4bf0a38449d4b172967a.jpg  \n",
      "  inflating: Pokemon5/Pikachu/0cdf621bbee34f768b89d6a519f52f1c.jpg  \n",
      "  inflating: Pokemon5/Pikachu/0f95bb7ac9cb4a789515930d1b185c15.jpg  \n",
      "  inflating: Pokemon5/Pikachu/1b88de58ecef49a8a33bd46dc6791915.jpg  \n",
      "  inflating: Pokemon5/Pikachu/39a31e1c0aea475aa37ce3c60d1495f5.jpg  \n",
      "  inflating: Pokemon5/Pikachu/4c021839fc7d424dbcd6be33a6de1738.jpg  \n",
      "  inflating: Pokemon5/Pikachu/4d6fb844dbc1427ebf9fb849beca2cf3.jpg  \n",
      "  inflating: Pokemon5/Pikachu/56d49e45fe0246d8a7eeece8b5569f71.jpg  \n",
      "  inflating: Pokemon5/Pikachu/69f52ce8bd0f42a482a97480764867ce.jpg  \n",
      "  inflating: Pokemon5/Pikachu/6fafbe812e8c4b9ba16d727cc9b6a127.jpg  \n",
      "  inflating: Pokemon5/Pikachu/7b7b1c9164064c8981b2f31f2feb873e.jpg  \n",
      "  inflating: Pokemon5/Pikachu/7fb36ffead6745a3b6b6d8f1aaf7a0cc.jpg  \n",
      "  inflating: Pokemon5/Pikachu/9a986c5f04f6478c85da7d8b4e79048b.jpg  \n",
      "  inflating: Pokemon5/Pikachu/9cf323423e1a4862a5474ec358daada1.jpg  \n",
      "  inflating: Pokemon5/Pikachu/9e315cea4c944136a9b1f30b2018e6dd.jpg  \n"
     ]
    }
   ],
   "source": [
    "!unzip Pokemon5.zip"
   ]
  },
  {
   "cell_type": "code",
   "execution_count": null,
   "metadata": {
    "colab": {
     "base_uri": "https://localhost:8080/"
    },
    "id": "zWnzV6L2yTfB",
    "outputId": "ae6a3023-4be4-4c6a-a080-4a859156ff90"
   },
   "outputs": [
    {
     "name": "stdout",
     "output_type": "stream",
     "text": [
      "chargement des images de : Pikachu\n",
      "chargement des images de : Dracaufeu\n",
      "chargement des images de : Ectoplasma\n",
      "chargement des images de : Mewtwo\n",
      "chargement des images de : Evoli\n"
     ]
    }
   ],
   "source": [
    "images = []\n",
    "labels  = []\n",
    "noms_pokemons = []\n",
    "\n",
    "dossiers_pokemons = glob(\"/content/Pokemon5/*\")\n",
    "\n",
    "for dossier in dossiers_pokemons:\n",
    "  # recupere le nom du pokemon\n",
    "  nom_pokemon = dossier.split(\"/\")[3]\n",
    "  noms_pokemons.append(nom_pokemon)\n",
    "\n",
    "  noms_images = glob(dossier+\"/*\")\n",
    "  print(\"chargement des images de :\",nom_pokemon)\n",
    "  for nom in noms_images:\n",
    "    image = cv2.imread(nom,cv2.IMREAD_COLOR)\n",
    "    image = cv2.resize(image,(108,108)) # (108x108 ) correspond à la taille de l'image la plus petit dans BDD\n",
    "    image = image/255\n",
    "\n",
    "    images.append(image)\n",
    "    labels.append(noms_pokemons.index(nom_pokemon))\n",
    "\n",
    "images = np.array(images) # on convertit nos tableau en numpy (pour qu'ils seront plus optimisés)\n",
    "labels = np.array(labels)\n",
    "labels = to_categorical(labels)"
   ]
  },
  {
   "cell_type": "code",
   "execution_count": null,
   "metadata": {
    "colab": {
     "base_uri": "https://localhost:8080/"
    },
    "id": "xg1MRTTg2-sh",
    "outputId": "1875133c-6761-442d-cb59-3ec0c4381e1f"
   },
   "outputs": [
    {
     "name": "stdout",
     "output_type": "stream",
     "text": [
      "['Pikachu', 'Dracaufeu', 'Ectoplasma', 'Mewtwo', 'Evoli']\n"
     ]
    }
   ],
   "source": [
    "print(noms_pokemons)"
   ]
  },
  {
   "cell_type": "markdown",
   "metadata": {
    "id": "HGujuZKk3lXY"
   },
   "source": [
    "## Le Modèle:"
   ]
  },
  {
   "cell_type": "code",
   "execution_count": null,
   "metadata": {
    "colab": {
     "base_uri": "https://localhost:8080/"
    },
    "id": "wGGINCDt3dBx",
    "outputId": "d76f9800-1d2c-48f5-fb35-42527b8e86b0"
   },
   "outputs": [
    {
     "name": "stdout",
     "output_type": "stream",
     "text": [
      "Model: \"sequential_9\"\n",
      "_________________________________________________________________\n",
      "Layer (type)                 Output Shape              Param #   \n",
      "=================================================================\n",
      "conv2d_37 (Conv2D)           (None, 106, 106, 32)      896       \n",
      "_________________________________________________________________\n",
      "max_pooling2d_7 (MaxPooling2 (None, 53, 53, 32)        0         \n",
      "_________________________________________________________________\n",
      "conv2d_38 (Conv2D)           (None, 51, 51, 64)        18496     \n",
      "_________________________________________________________________\n",
      "conv2d_39 (Conv2D)           (None, 49, 49, 64)        36928     \n",
      "_________________________________________________________________\n",
      "conv2d_40 (Conv2D)           (None, 47, 47, 64)        36928     \n",
      "_________________________________________________________________\n",
      "conv2d_41 (Conv2D)           (None, 45, 45, 64)        36928     \n",
      "_________________________________________________________________\n",
      "flatten_8 (Flatten)          (None, 129600)            0         \n",
      "_________________________________________________________________\n",
      "dense_8 (Dense)              (None, 5)                 648005    \n",
      "=================================================================\n",
      "Total params: 778,181\n",
      "Trainable params: 778,181\n",
      "Non-trainable params: 0\n",
      "_________________________________________________________________\n"
     ]
    }
   ],
   "source": [
    "model = Sequential()\n",
    "model.add(Conv2D(32 , kernel_size=(3,3) , activation=\"relu\" , input_shape=(108,108,3)))\n",
    "model.add(MaxPooling2D(pool_size=(2,2)))\n",
    "model.add(Conv2D(64 , kernel_size=(5,5) , activation=\"relu\"))\n",
    "model.add(Conv2D(64 , kernel_size=(3,3) , activation=\"relu\"))\n",
    "model.add(Conv2D(64 , kernel_size=(3,3) , activation=\"relu\"))\n",
    "model.add(Conv2D(64 , kernel_size=(3,3) , activation=\"relu\"))\n",
    "model.add(Flatten())\n",
    "model.add(Dense(5,activation=\"softmax\"))\n",
    "model.trainable = True\n",
    "model.summary()"
   ]
  },
  {
   "cell_type": "code",
   "execution_count": null,
   "metadata": {
    "colab": {
     "base_uri": "https://localhost:8080/"
    },
    "id": "4DHnP2GG4uFD",
    "outputId": "4234bd89-2672-47c7-b7f6-6991ac1f83f5"
   },
   "outputs": [
    {
     "name": "stdout",
     "output_type": "stream",
     "text": [
      "Epoch 1/20\n",
      "8/8 [==============================] - 1s 57ms/step - loss: 1.7565 - accuracy: 0.3168\n",
      "Epoch 2/20\n",
      "8/8 [==============================] - 0s 50ms/step - loss: 1.0440 - accuracy: 0.5678\n",
      "Epoch 3/20\n",
      "8/8 [==============================] - 0s 46ms/step - loss: 0.7290 - accuracy: 0.6795\n",
      "Epoch 4/20\n",
      "8/8 [==============================] - 0s 47ms/step - loss: 0.5867 - accuracy: 0.7619\n",
      "Epoch 5/20\n",
      "8/8 [==============================] - 0s 45ms/step - loss: 0.3577 - accuracy: 0.8446\n",
      "Epoch 6/20\n",
      "8/8 [==============================] - 0s 47ms/step - loss: 0.2480 - accuracy: 0.8943\n",
      "Epoch 7/20\n",
      "8/8 [==============================] - 0s 47ms/step - loss: 0.1152 - accuracy: 0.9679\n",
      "Epoch 8/20\n",
      "8/8 [==============================] - 0s 46ms/step - loss: 0.1562 - accuracy: 0.9516\n",
      "Epoch 9/20\n",
      "8/8 [==============================] - 0s 49ms/step - loss: 0.0743 - accuracy: 0.9766\n",
      "Epoch 10/20\n",
      "8/8 [==============================] - 0s 48ms/step - loss: 0.1000 - accuracy: 0.9688\n",
      "Epoch 11/20\n",
      "8/8 [==============================] - 0s 46ms/step - loss: 0.0317 - accuracy: 0.9917\n",
      "Epoch 12/20\n",
      "8/8 [==============================] - 0s 45ms/step - loss: 0.0259 - accuracy: 0.9879\n",
      "Epoch 13/20\n",
      "8/8 [==============================] - 0s 46ms/step - loss: 0.0356 - accuracy: 0.9866\n",
      "Epoch 14/20\n",
      "8/8 [==============================] - 0s 45ms/step - loss: 0.0258 - accuracy: 0.9935\n",
      "Epoch 15/20\n",
      "8/8 [==============================] - 0s 46ms/step - loss: 0.0159 - accuracy: 0.9964\n",
      "Epoch 16/20\n",
      "8/8 [==============================] - 0s 46ms/step - loss: 0.0136 - accuracy: 1.0000\n",
      "Epoch 17/20\n",
      "8/8 [==============================] - 0s 47ms/step - loss: 0.0013 - accuracy: 1.0000\n",
      "Epoch 18/20\n",
      "8/8 [==============================] - 0s 46ms/step - loss: 2.9833e-04 - accuracy: 1.0000\n",
      "Epoch 19/20\n",
      "8/8 [==============================] - 0s 45ms/step - loss: 3.4952e-04 - accuracy: 1.0000\n",
      "Epoch 20/20\n",
      "8/8 [==============================] - 0s 46ms/step - loss: 1.9726e-04 - accuracy: 1.0000\n"
     ]
    },
    {
     "data": {
      "text/plain": [
       "<keras.callbacks.History at 0x7fc2ee8fe890>"
      ]
     },
     "execution_count": 30,
     "metadata": {
      "tags": []
     },
     "output_type": "execute_result"
    }
   ],
   "source": [
    "model.compile(loss = 'categorical_crossentropy', optimizer=Adam(),metrics=['accuracy'])\n",
    "model.fit(images,labels,epochs=20)"
   ]
  },
  {
   "cell_type": "markdown",
   "metadata": {
    "id": "_qswaPjS7fCZ"
   },
   "source": [
    "## Etape 4 : Sauvegarde du modele"
   ]
  },
  {
   "cell_type": "code",
   "execution_count": null,
   "metadata": {
    "id": "dab6GJLO7oz5"
   },
   "outputs": [],
   "source": [
    "import h5py\n",
    "model.save(\"/content/cnn_pokemons.h5\")"
   ]
  },
  {
   "cell_type": "markdown",
   "metadata": {
    "id": "onXSnrSK8D_g"
   },
   "source": [
    "## Etape 5 : Utilisation du modèle:"
   ]
  },
  {
   "cell_type": "code",
   "execution_count": null,
   "metadata": {
    "colab": {
     "base_uri": "https://localhost:8080/"
    },
    "id": "2TeYoOKe7zdr",
    "outputId": "80aee34d-2561-46d7-9ad3-54c08159b39a"
   },
   "outputs": [
    {
     "name": "stdout",
     "output_type": "stream",
     "text": [
      "0\n",
      "Le pokémon dans l'image est :  Pikachu\n"
     ]
    }
   ],
   "source": [
    "image = cv2.imread(\"/content/images.jpg\",cv2.IMREAD_COLOR)\n",
    "image = cv2.resize(image, (108,108) ) \n",
    "image = image/255\n",
    "\n",
    "image = image.reshape(1,108,108,3)\n",
    "prediction = model.predict(image)\n",
    "label = np.argmax(prediction)\n",
    "print(label)\n",
    "print(\"Le pokémon dans l'image est : \",noms_pokemons[label])"
   ]
  },
  {
   "cell_type": "code",
   "execution_count": 3,
   "metadata": {},
   "outputs": [
    {
     "ename": "ModuleNotFoundError",
     "evalue": "No module named 'tensorflow'",
     "output_type": "error",
     "traceback": [
      "\u001b[1;31m---------------------------------------------------------------------------\u001b[0m",
      "\u001b[1;31mModuleNotFoundError\u001b[0m                       Traceback (most recent call last)",
      "\u001b[1;32m<ipython-input-3-84e217d83c26>\u001b[0m in \u001b[0;36m<module>\u001b[1;34m\u001b[0m\n\u001b[0;32m      2\u001b[0m \u001b[1;33m\u001b[0m\u001b[0m\n\u001b[0;32m      3\u001b[0m \u001b[1;33m\u001b[0m\u001b[0m\n\u001b[1;32m----> 4\u001b[1;33m \u001b[1;32mimport\u001b[0m \u001b[0mtensorflow\u001b[0m \u001b[1;32mas\u001b[0m \u001b[0mtf\u001b[0m\u001b[1;33m\u001b[0m\u001b[1;33m\u001b[0m\u001b[0m\n\u001b[0m\u001b[0;32m      5\u001b[0m \u001b[1;32mfrom\u001b[0m \u001b[0mtensorflow\u001b[0m \u001b[1;32mimport\u001b[0m \u001b[0mkeras\u001b[0m\u001b[1;33m\u001b[0m\u001b[1;33m\u001b[0m\u001b[0m\n\u001b[0;32m      6\u001b[0m \u001b[1;32mfrom\u001b[0m \u001b[0mtensorflow\u001b[0m\u001b[1;33m.\u001b[0m\u001b[0mkeras\u001b[0m \u001b[1;32mimport\u001b[0m \u001b[0mlayers\u001b[0m\u001b[1;33m\u001b[0m\u001b[1;33m\u001b[0m\u001b[0m\n",
      "\u001b[1;31mModuleNotFoundError\u001b[0m: No module named 'tensorflow'"
     ]
    }
   ],
   "source": [
    "import os\n",
    "\n",
    "\n",
    "import tensorflow as tf\n",
    "from tensorflow import keras\n",
    "from tensorflow.keras import layers\n",
    "from tensorflow.keras.datasets import cifar10\n",
    "\n",
    "physical_devices = tf.config.list_physical_devices(\"GPU\")\n",
    "tf.config.experimental.set_memory_growth(physical_devices[0], True)"
   ]
  },
  {
   "cell_type": "code",
   "execution_count": null,
   "metadata": {
    "id": "0fQIsjXl9Mt-"
   },
   "outputs": [],
   "source": [
    "\n",
    "\n",
    "(x_train, y_train), (x_test, y_test) = cifar10.load_data()\n",
    "x_train = x_train.astype(\"float32\") / 255.0\n",
    "x_test = x_test.astype(\"float32\") / 255.0\n",
    "\n",
    "model = keras.Sequential(\n",
    "    [\n",
    "        keras.Input(shape=(32, 32, 3)),\n",
    "        layers.Conv2D(32, 3, padding=\"valid\", activation=\"relu\"),\n",
    "        layers.MaxPooling2D(),\n",
    "        layers.Conv2D(64, 3, activation=\"relu\"),\n",
    "        layers.MaxPooling2D(),\n",
    "        layers.Conv2D(128, 3, activation=\"relu\"),\n",
    "        layers.Flatten(),\n",
    "        layers.Dense(64, activation=\"relu\"),\n",
    "        layers.Dense(10),\n",
    "    ]\n",
    ")\n",
    "\n",
    "\n",
    "def my_model():\n",
    "    inputs = keras.Input(shape=(32, 32, 3))\n",
    "    x = layers.Conv2D(32, 3)(inputs)\n",
    "    x = layers.BatchNormalization()(x)\n",
    "    x = keras.activations.relu(x)\n",
    "    x = layers.MaxPooling2D()(x)\n",
    "    x = layers.Conv2D(64, 3)(x)\n",
    "    x = layers.BatchNormalization()(x)\n",
    "    x = keras.activations.relu(x)\n",
    "    x = layers.MaxPooling2D()(x)\n",
    "    x = layers.Conv2D(128, 3)(x)\n",
    "    x = layers.BatchNormalization()(x)\n",
    "    x = keras.activations.relu(x)\n",
    "    x = layers.Flatten()(x)\n",
    "    x = layers.Dense(64, activation=\"relu\")(x)\n",
    "    outputs = layers.Dense(10)(x)\n",
    "    model = keras.Model(inputs=inputs, outputs=outputs)\n",
    "    return model\n",
    "\n",
    "\n",
    "model = my_model()\n",
    "model.compile(\n",
    "    loss=keras.losses.SparseCategoricalCrossentropy(from_logits=True),\n",
    "    optimizer=keras.optimizers.Adam(lr=3e-4),\n",
    "    metrics=[\"accuracy\"],\n",
    ")\n",
    "\n",
    "model.fit(x_train, y_train, batch_size=64, epochs=10, verbose=2)\n",
    "model.evaluate(x_test, y_test, batch_size=64, verbose=2)"
   ]
  }
 ],
 "metadata": {
  "accelerator": "GPU",
  "colab": {
   "name": "Pokémons.ipynb",
   "provenance": []
  },
  "kernelspec": {
   "display_name": "Python 3",
   "language": "python",
   "name": "python3"
  },
  "language_info": {
   "codemirror_mode": {
    "name": "ipython",
    "version": 3
   },
   "file_extension": ".py",
   "mimetype": "text/x-python",
   "name": "python",
   "nbconvert_exporter": "python",
   "pygments_lexer": "ipython3",
   "version": "3.8.8"
  }
 },
 "nbformat": 4,
 "nbformat_minor": 1
}
